{
 "cells": [
  {
   "cell_type": "markdown",
   "id": "d284cbef",
   "metadata": {},
   "source": [
    "# Assignment 1"
   ]
  },
  {
   "cell_type": "markdown",
   "id": "f476b21b",
   "metadata": {},
   "source": [
    "## Task - 1 Create a pandas dataframe (DataFrame name as 'df') (10 observation and 5 features)"
   ]
  },
  {
   "cell_type": "code",
   "execution_count": 1,
   "id": "5471bbff",
   "metadata": {},
   "outputs": [],
   "source": [
    "import numpy as np\n",
    "import pandas as pd"
   ]
  },
  {
   "cell_type": "code",
   "execution_count": 2,
   "id": "b2c654e8",
   "metadata": {},
   "outputs": [],
   "source": [
    "m = {'id_no':[1,2,3,4,5,6,7,8,9,10],\n",
    "    'Name':[\"David\",\"Hazle\",\"Priyanshu\",\"Charles\",\"Catherine\",\"Mathew\",\"Alexia\",\"Ashiq\",\"Churnika\",\"Ryan\"],\n",
    "    'Age':[50,19,np.nan,17,25,45,36,25,60,np.nan],\n",
    "    'Gender':['M','F','M','M','F','M','F','M','F','M'],\n",
    "    'No of Cars':[2,1,2,3,1,1,2,1,2,1],\n",
    "    'Favourite Colour':[\"Blue\",\"Purple\",\"Black\",\"Violet\",\"Red\",\"Navy Blue\",\"Pink\",\"Black\",\"Indigo\",\"White\"]}"
   ]
  },
  {
   "cell_type": "code",
   "execution_count": 3,
   "id": "5e046a62",
   "metadata": {},
   "outputs": [],
   "source": [
    "df = pd.DataFrame(m)"
   ]
  },
  {
   "cell_type": "code",
   "execution_count": 4,
   "id": "6a5c8c25",
   "metadata": {},
   "outputs": [
    {
     "name": "stdout",
     "output_type": "stream",
     "text": [
      "   id_no       Name   Age Gender  No of Cars Favourite Colour\n",
      "0      1      David  50.0      M           2             Blue\n",
      "1      2      Hazle  19.0      F           1           Purple\n",
      "2      3  Priyanshu   NaN      M           2            Black\n",
      "3      4    Charles  17.0      M           3           Violet\n",
      "4      5  Catherine  25.0      F           1              Red\n",
      "5      6     Mathew  45.0      M           1        Navy Blue\n",
      "6      7     Alexia  36.0      F           2             Pink\n",
      "7      8      Ashiq  25.0      M           1            Black\n",
      "8      9   Churnika  60.0      F           2           Indigo\n",
      "9     10       Ryan   NaN      M           1            White\n"
     ]
    }
   ],
   "source": [
    "print(df)\n"
   ]
  },
  {
   "cell_type": "markdown",
   "id": "d82c98b7",
   "metadata": {},
   "source": [
    "##  Task- 2 Check the info of 'df'\n"
   ]
  },
  {
   "cell_type": "code",
   "execution_count": 5,
   "id": "29354742",
   "metadata": {
    "scrolled": true
   },
   "outputs": [
    {
     "name": "stdout",
     "output_type": "stream",
     "text": [
      "<class 'pandas.core.frame.DataFrame'>\n",
      "RangeIndex: 10 entries, 0 to 9\n",
      "Data columns (total 6 columns):\n",
      " #   Column            Non-Null Count  Dtype  \n",
      "---  ------            --------------  -----  \n",
      " 0   id_no             10 non-null     int64  \n",
      " 1   Name              10 non-null     object \n",
      " 2   Age               8 non-null      float64\n",
      " 3   Gender            10 non-null     object \n",
      " 4   No of Cars        10 non-null     int64  \n",
      " 5   Favourite Colour  10 non-null     object \n",
      "dtypes: float64(1), int64(2), object(3)\n",
      "memory usage: 608.0+ bytes\n"
     ]
    }
   ],
   "source": [
    "df.info()"
   ]
  },
  {
   "cell_type": "markdown",
   "id": "879f08c8",
   "metadata": {},
   "source": [
    "## Task 3- Check the descriptive statistics of 'df'\n"
   ]
  },
  {
   "cell_type": "code",
   "execution_count": 6,
   "id": "671a82c6",
   "metadata": {},
   "outputs": [
    {
     "data": {
      "text/html": [
       "<div>\n",
       "<style scoped>\n",
       "    .dataframe tbody tr th:only-of-type {\n",
       "        vertical-align: middle;\n",
       "    }\n",
       "\n",
       "    .dataframe tbody tr th {\n",
       "        vertical-align: top;\n",
       "    }\n",
       "\n",
       "    .dataframe thead th {\n",
       "        text-align: right;\n",
       "    }\n",
       "</style>\n",
       "<table border=\"1\" class=\"dataframe\">\n",
       "  <thead>\n",
       "    <tr style=\"text-align: right;\">\n",
       "      <th></th>\n",
       "      <th>id_no</th>\n",
       "      <th>Age</th>\n",
       "      <th>No of Cars</th>\n",
       "    </tr>\n",
       "  </thead>\n",
       "  <tbody>\n",
       "    <tr>\n",
       "      <th>count</th>\n",
       "      <td>10.00000</td>\n",
       "      <td>8.00000</td>\n",
       "      <td>10.000000</td>\n",
       "    </tr>\n",
       "    <tr>\n",
       "      <th>mean</th>\n",
       "      <td>5.50000</td>\n",
       "      <td>34.62500</td>\n",
       "      <td>1.600000</td>\n",
       "    </tr>\n",
       "    <tr>\n",
       "      <th>std</th>\n",
       "      <td>3.02765</td>\n",
       "      <td>15.72021</td>\n",
       "      <td>0.699206</td>\n",
       "    </tr>\n",
       "    <tr>\n",
       "      <th>min</th>\n",
       "      <td>1.00000</td>\n",
       "      <td>17.00000</td>\n",
       "      <td>1.000000</td>\n",
       "    </tr>\n",
       "    <tr>\n",
       "      <th>25%</th>\n",
       "      <td>3.25000</td>\n",
       "      <td>23.50000</td>\n",
       "      <td>1.000000</td>\n",
       "    </tr>\n",
       "    <tr>\n",
       "      <th>50%</th>\n",
       "      <td>5.50000</td>\n",
       "      <td>30.50000</td>\n",
       "      <td>1.500000</td>\n",
       "    </tr>\n",
       "    <tr>\n",
       "      <th>75%</th>\n",
       "      <td>7.75000</td>\n",
       "      <td>46.25000</td>\n",
       "      <td>2.000000</td>\n",
       "    </tr>\n",
       "    <tr>\n",
       "      <th>max</th>\n",
       "      <td>10.00000</td>\n",
       "      <td>60.00000</td>\n",
       "      <td>3.000000</td>\n",
       "    </tr>\n",
       "  </tbody>\n",
       "</table>\n",
       "</div>"
      ],
      "text/plain": [
       "          id_no       Age  No of Cars\n",
       "count  10.00000   8.00000   10.000000\n",
       "mean    5.50000  34.62500    1.600000\n",
       "std     3.02765  15.72021    0.699206\n",
       "min     1.00000  17.00000    1.000000\n",
       "25%     3.25000  23.50000    1.000000\n",
       "50%     5.50000  30.50000    1.500000\n",
       "75%     7.75000  46.25000    2.000000\n",
       "max    10.00000  60.00000    3.000000"
      ]
     },
     "execution_count": 6,
     "metadata": {},
     "output_type": "execute_result"
    }
   ],
   "source": [
    "df.describe()"
   ]
  },
  {
   "cell_type": "markdown",
   "id": "f56e1c72",
   "metadata": {},
   "source": [
    "## Task 4- check the 4th index observation with 'loc' slicing operator"
   ]
  },
  {
   "cell_type": "code",
   "execution_count": 7,
   "id": "f1f9d332",
   "metadata": {},
   "outputs": [
    {
     "data": {
      "text/plain": [
       "id_no                       5\n",
       "Name                Catherine\n",
       "Age                      25.0\n",
       "Gender                      F\n",
       "No of Cars                  1\n",
       "Favourite Colour          Red\n",
       "Name: 4, dtype: object"
      ]
     },
     "execution_count": 7,
     "metadata": {},
     "output_type": "execute_result"
    }
   ],
   "source": [
    "df.loc[4]"
   ]
  },
  {
   "cell_type": "markdown",
   "id": "c978653f",
   "metadata": {},
   "source": [
    "## Task 5 - Check the null values in your 'df'"
   ]
  },
  {
   "cell_type": "code",
   "execution_count": 8,
   "id": "dadd3dfa",
   "metadata": {},
   "outputs": [
    {
     "data": {
      "text/plain": [
       "id_no               False\n",
       "Name                False\n",
       "Age                  True\n",
       "Gender              False\n",
       "No of Cars          False\n",
       "Favourite Colour    False\n",
       "dtype: bool"
      ]
     },
     "execution_count": 8,
     "metadata": {},
     "output_type": "execute_result"
    }
   ],
   "source": [
    "df.isnull().any()"
   ]
  },
  {
   "cell_type": "code",
   "execution_count": 9,
   "id": "5f2d8fcc",
   "metadata": {},
   "outputs": [
    {
     "data": {
      "text/html": [
       "<div>\n",
       "<style scoped>\n",
       "    .dataframe tbody tr th:only-of-type {\n",
       "        vertical-align: middle;\n",
       "    }\n",
       "\n",
       "    .dataframe tbody tr th {\n",
       "        vertical-align: top;\n",
       "    }\n",
       "\n",
       "    .dataframe thead th {\n",
       "        text-align: right;\n",
       "    }\n",
       "</style>\n",
       "<table border=\"1\" class=\"dataframe\">\n",
       "  <thead>\n",
       "    <tr style=\"text-align: right;\">\n",
       "      <th></th>\n",
       "      <th>id_no</th>\n",
       "      <th>Name</th>\n",
       "      <th>Age</th>\n",
       "      <th>Gender</th>\n",
       "      <th>No of Cars</th>\n",
       "      <th>Favourite Colour</th>\n",
       "    </tr>\n",
       "  </thead>\n",
       "  <tbody>\n",
       "    <tr>\n",
       "      <th>0</th>\n",
       "      <td>False</td>\n",
       "      <td>False</td>\n",
       "      <td>False</td>\n",
       "      <td>False</td>\n",
       "      <td>False</td>\n",
       "      <td>False</td>\n",
       "    </tr>\n",
       "    <tr>\n",
       "      <th>1</th>\n",
       "      <td>False</td>\n",
       "      <td>False</td>\n",
       "      <td>False</td>\n",
       "      <td>False</td>\n",
       "      <td>False</td>\n",
       "      <td>False</td>\n",
       "    </tr>\n",
       "    <tr>\n",
       "      <th>2</th>\n",
       "      <td>False</td>\n",
       "      <td>False</td>\n",
       "      <td>True</td>\n",
       "      <td>False</td>\n",
       "      <td>False</td>\n",
       "      <td>False</td>\n",
       "    </tr>\n",
       "    <tr>\n",
       "      <th>3</th>\n",
       "      <td>False</td>\n",
       "      <td>False</td>\n",
       "      <td>False</td>\n",
       "      <td>False</td>\n",
       "      <td>False</td>\n",
       "      <td>False</td>\n",
       "    </tr>\n",
       "    <tr>\n",
       "      <th>4</th>\n",
       "      <td>False</td>\n",
       "      <td>False</td>\n",
       "      <td>False</td>\n",
       "      <td>False</td>\n",
       "      <td>False</td>\n",
       "      <td>False</td>\n",
       "    </tr>\n",
       "    <tr>\n",
       "      <th>5</th>\n",
       "      <td>False</td>\n",
       "      <td>False</td>\n",
       "      <td>False</td>\n",
       "      <td>False</td>\n",
       "      <td>False</td>\n",
       "      <td>False</td>\n",
       "    </tr>\n",
       "    <tr>\n",
       "      <th>6</th>\n",
       "      <td>False</td>\n",
       "      <td>False</td>\n",
       "      <td>False</td>\n",
       "      <td>False</td>\n",
       "      <td>False</td>\n",
       "      <td>False</td>\n",
       "    </tr>\n",
       "    <tr>\n",
       "      <th>7</th>\n",
       "      <td>False</td>\n",
       "      <td>False</td>\n",
       "      <td>False</td>\n",
       "      <td>False</td>\n",
       "      <td>False</td>\n",
       "      <td>False</td>\n",
       "    </tr>\n",
       "    <tr>\n",
       "      <th>8</th>\n",
       "      <td>False</td>\n",
       "      <td>False</td>\n",
       "      <td>False</td>\n",
       "      <td>False</td>\n",
       "      <td>False</td>\n",
       "      <td>False</td>\n",
       "    </tr>\n",
       "    <tr>\n",
       "      <th>9</th>\n",
       "      <td>False</td>\n",
       "      <td>False</td>\n",
       "      <td>True</td>\n",
       "      <td>False</td>\n",
       "      <td>False</td>\n",
       "      <td>False</td>\n",
       "    </tr>\n",
       "  </tbody>\n",
       "</table>\n",
       "</div>"
      ],
      "text/plain": [
       "   id_no   Name    Age  Gender  No of Cars  Favourite Colour\n",
       "0  False  False  False   False       False             False\n",
       "1  False  False  False   False       False             False\n",
       "2  False  False   True   False       False             False\n",
       "3  False  False  False   False       False             False\n",
       "4  False  False  False   False       False             False\n",
       "5  False  False  False   False       False             False\n",
       "6  False  False  False   False       False             False\n",
       "7  False  False  False   False       False             False\n",
       "8  False  False  False   False       False             False\n",
       "9  False  False   True   False       False             False"
      ]
     },
     "execution_count": 9,
     "metadata": {},
     "output_type": "execute_result"
    }
   ],
   "source": [
    "df.isnull()"
   ]
  }
 ],
 "metadata": {
  "kernelspec": {
   "display_name": "Python 3 (ipykernel)",
   "language": "python",
   "name": "python3"
  },
  "language_info": {
   "codemirror_mode": {
    "name": "ipython",
    "version": 3
   },
   "file_extension": ".py",
   "mimetype": "text/x-python",
   "name": "python",
   "nbconvert_exporter": "python",
   "pygments_lexer": "ipython3",
   "version": "3.8.17"
  }
 },
 "nbformat": 4,
 "nbformat_minor": 5
}
